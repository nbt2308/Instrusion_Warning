{
 "cells": [
  {
   "cell_type": "code",
   "execution_count": 1,
   "id": "91d71417",
   "metadata": {},
   "outputs": [],
   "source": [
    "import cv2\n",
    "import os\n",
    "import time\n",
    "import uuid"
   ]
  },
  {
   "cell_type": "code",
   "execution_count": 2,
   "id": "bdd98c1d",
   "metadata": {},
   "outputs": [],
   "source": [
    "IMAGES_PATH=\"authorized_face\""
   ]
  },
  {
   "cell_type": "code",
   "execution_count": null,
   "id": "99c8d315",
   "metadata": {},
   "outputs": [],
   "source": [
    "#sửa lại nếu muốn tạo nhiều thư mục( ví dụ như goc_thang, goc_nghieng_phai, goc_nghieng_trai là 3 thư mục )\n",
    "labels = ['goc_thang','goc_nghieng_phai','goc_nghieng_trai']\n",
    "#chỉnh sửa mỗi thư mục chụp bao nhiêu ảnh\n",
    "number_imgs = 10\n",
    "# Create a directory for each label"
   ]
  },
  {
   "cell_type": "markdown",
   "id": "3d25f7b6",
   "metadata": {},
   "source": [
    "Sau khi chụp xong nhớ copy hết ảnh trong các thư mục quăng ra ngoài thư mục \"authorized_face\""
   ]
  },
  {
   "cell_type": "code",
   "execution_count": null,
   "id": "87ea152a",
   "metadata": {},
   "outputs": [
    {
     "name": "stdout",
     "output_type": "stream",
     "text": [
      "Collecting images for goc_thang\n",
      "Collecting image 0\n",
      "Collecting image 1\n",
      "Collecting image 2\n",
      "Collecting image 3\n",
      "Collecting image 4\n",
      "Collecting image 5\n",
      "Collecting image 6\n",
      "Collecting image 7\n",
      "Collecting image 8\n",
      "Collecting image 9\n"
     ]
    },
    {
     "ename": "",
     "evalue": "",
     "output_type": "error",
     "traceback": [
      "\u001b[1;31mThe Kernel crashed while executing code in the current cell or a previous cell. \n",
      "\u001b[1;31mPlease review the code in the cell(s) to identify a possible cause of the failure. \n",
      "\u001b[1;31mClick <a href='https://aka.ms/vscodeJupyterKernelCrash'>here</a> for more info. \n",
      "\u001b[1;31mView Jupyter <a href='command:jupyter.viewOutput'>log</a> for further details."
     ]
    }
   ],
   "source": [
    "\n",
    "for label in labels:\n",
    "    !mkdir {\"authorized_face\\\\\" + label}\n",
    "    cap=cv2.VideoCapture(1)\n",
    "    print(\"Collecting images for {}\".format(label))\n",
    "    time.sleep(5)\n",
    "    for imgnum in range(number_imgs):\n",
    "        print(\"Collecting image {}\".format(imgnum))\n",
    "        ret, frame = cap.read()\n",
    "        image_name = os.path.join(IMAGES_PATH, label, label + '.' + str(uuid.uuid1()) + '.jpg')\n",
    "        cv2.imwrite(image_name, frame)\n",
    "        cv2.imshow('frame', frame)\n",
    "        time.sleep(2)\n",
    "\n",
    "        if cv2.waitKey(1) & 0xFF == ord('q'):\n",
    "            break\n",
    "    cap.release()\n"
   ]
  }
 ],
 "metadata": {
  "kernelspec": {
   "display_name": ".venv",
   "language": "python",
   "name": "python3"
  },
  "language_info": {
   "codemirror_mode": {
    "name": "ipython",
    "version": 3
   },
   "file_extension": ".py",
   "mimetype": "text/x-python",
   "name": "python",
   "nbconvert_exporter": "python",
   "pygments_lexer": "ipython3",
   "version": "3.13.2"
  }
 },
 "nbformat": 4,
 "nbformat_minor": 5
}
